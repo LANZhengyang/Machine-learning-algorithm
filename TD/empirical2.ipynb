{
 "cells": [
  {
   "cell_type": "markdown",
   "metadata": {},
   "source": [
    "# A Second Empirical Exploration of Machine Learning Concepts\n",
    "\n",
    "## Linear regression predictors\n",
    "Let define the class of affine function $$L_d = \\{h_{w,b}: w\\in\\mathbb{R}^d, b\\in\\mathbb{R}\\}$$,\n",
    "where $$h_{w,b}(x)=w\\cdot x+b = \\sum_{j=1}^d w_jx_j + b.$$\n",
    "It may be more convenient to incorporate $b$, called the bias, into $w$ as an extra coordinate and add an extra coordinate with a value of 1 to all $x \\in {\\cal X}$. Let $w'=(b,w_1,\\ldots,w_d)\\in \\mathbb{R}^{d+1}$ and $x'=(1,x_1,\\dots,x_d)\\in\\mathbb{R}^{d+1}$. We can write, $$h_{w,b}(x)=w\\cdot x+b=w'\\cdot x' .$$\n",
    "The hypothesis class of *linear regression predictors* is the set of linear functions ${\\cal H}_{lin}=L_d$. *Least squares* is the algorithm that solves the ERM problem for the hypothesis class of linear regression predictors with respect to the squared loss. The ERM problem with respect to this class, given a training set S is to find:\n",
    "$$\\textrm{argmin}_w L_S(h_w)=\\textrm{argmin}_w \\frac{1}{m}\\sum_{i=1}^m(w'\\cdot x_i' - y_i)^2$$\n",
    "\n",
    "Some learning tasks call for nonlinear predictors, such as polynomial predictors. Take, for instance, a one dimensional polynomial function of degree n, that is, $$p(x)=a_0+a_1 x+a_2 x^2+\\ldots +a_n x^n$$. One way to learn this class is by reduction to the problem of linear regression. To translate a polynomial regression\n",
    "problem to a linear regression problem, we define the mapping $\\psi:\\mathbb{R} \\rightarrow \\mathbb{R}^{n+1}$\n",
    "such that $\\psi(x) = (1, x, x^2, \\ldots, x^n)$. Then we have that $$p(\\psi(x)) = a_0 + a_1 x + a_2 x^2 + \\ldots + a_n x^n = a\\cdot\\psi(x)$$ and we can find the optimal vector of coefficients a by using the Least Squares algorithm. \n",
    "\n",
    "> ### Questions:\n",
    "> 1. Use the [LinearRegression](https://scikit-learn.org/stable/modules/linear_model.html#ordinary-least-squares) module from sklearn to learn a linear regression predictor for the simpledata set.\n",
    "> 1. Use the [PolynomialFeatures](https://scikit-learn.org/stable/modules/generated/sklearn.preprocessing.PolynomialFeatures.html) and [pipeline](https://scikit-learn.org/stable/modules/generated/sklearn.pipeline.make_pipeline.html) modules in sklearn to learn a polynomial predictor for the simpledaat set.\n",
    "> 1. Find the best regressor to solve the task in (https://archive.ics.uci.edu/ml/datasets/Abalone)"
   ]
  },
  {
   "cell_type": "code",
   "execution_count": 19,
   "metadata": {},
   "outputs": [],
   "source": [
    "import pandas as pd\n",
    "import numpy as np\n",
    "from sklearn.metrics import mean_squared_error, r2_score\n",
    "import matplotlib.pyplot as plt\n",
    "%matplotlib inline\n",
    "train = pd.read_csv(\"./simpledata_train.csv\")\n",
    "test = pd.read_csv(\"./simpledata_test.csv\")"
   ]
  },
  {
   "cell_type": "code",
   "execution_count": 20,
   "metadata": {},
   "outputs": [],
   "source": [
    "from sklearn import linear_model\n",
    "reg = linear_model.LinearRegression()"
   ]
  },
  {
   "cell_type": "code",
   "execution_count": 49,
   "metadata": {},
   "outputs": [],
   "source": [
    "x_train = train[\"x\"].values[:,np.newaxis] # column matrix instead of line vector\n",
    "y_train = train[\"y\"]\n",
    "\n",
    "x_test = test[\"x\"].values[:,np.newaxis] # column matrix instead of line vector\n",
    "y_test = test[\"y\"]"
   ]
  },
  {
   "cell_type": "code",
   "execution_count": 4,
   "metadata": {},
   "outputs": [
    {
     "data": {
      "text/plain": [
       "LinearRegression(copy_X=True, fit_intercept=True, n_jobs=None,\n",
       "         normalize=False)"
      ]
     },
     "execution_count": 4,
     "metadata": {},
     "output_type": "execute_result"
    }
   ],
   "source": [
    "regr = linear_model.LinearRegression()\n",
    "regr.fit(x_train, y_train)"
   ]
  },
  {
   "cell_type": "code",
   "execution_count": 5,
   "metadata": {},
   "outputs": [],
   "source": [
    "y_pred = regr.predict(x_test)"
   ]
  },
  {
   "cell_type": "code",
   "execution_count": 6,
   "metadata": {},
   "outputs": [
    {
     "name": "stdout",
     "output_type": "stream",
     "text": [
      "Coefficients: \n",
      " [3.12988725]\n",
      "Mean squared error: 22.36\n",
      "Variance score: 0.75\n"
     ]
    }
   ],
   "source": [
    "print('Coefficients: \\n', regr.coef_)\n",
    "print(\"Mean squared error: %.2f\"\n",
    "      % mean_squared_error(y_test, y_pred))\n",
    "print('Variance score: %.2f' % r2_score(y_test, y_pred))"
   ]
  },
  {
   "cell_type": "code",
   "execution_count": 7,
   "metadata": {},
   "outputs": [
    {
     "data": {
      "image/png": "[encoded data removed]",
      "text/plain": [
       "<Figure size 432x288 with 1 Axes>"
      ]
     },
     "metadata": {
      "needs_background": "light"
     },
     "output_type": "display_data"
    }
   ],
   "source": [
    "plt.scatter(x_train, y_train,  color='black')\n",
    "plt.plot(x_test, y_pred, color='blue', linewidth=3)\n",
    "\n",
    "plt.show()\n",
    "\n",
    "#print(x_test)"
   ]
  },
  {
   "cell_type": "code",
   "execution_count": 161,
   "metadata": {
    "scrolled": true
   },
   "outputs": [
    {
     "data": {
      "text/plain": [
       "<matplotlib.legend.Legend at 0x1a23110208>"
      ]
     },
     "execution_count": 161,
     "metadata": {},
     "output_type": "execute_result"
    },
    {
     "data": {
      "image/png": "[encoded data removed]",
      "text/plain": [
       "<Figure size 432x288 with 1 Axes>"
      ]
     },
     "metadata": {
      "needs_background": "light"
     },
     "output_type": "display_data"
    }
   ],
   "source": [
    "import pandas as pd\n",
    "import numpy as np\n",
    "from sklearn.metrics import mean_squared_error, r2_score\n",
    "import matplotlib.pyplot as plt\n",
    "%matplotlib inline\n",
    "train = pd.read_csv(\"./simpledata_train.csv\")\n",
    "test = pd.read_csv(\"./simpledata_test.csv\")\n",
    "\n",
    "from sklearn.preprocessing import PolynomialFeatures\n",
    "from sklearn.pipeline import make_pipeline\n",
    "\n",
    "\n",
    "from sklearn import linear_model\n",
    "reg = linear_model.LinearRegression()\n",
    "\n",
    "# generate points and keep a subset of them\n",
    "x_train = train[\"x\"].values[:,np.newaxis] # column matrix instead of line vector\n",
    "y_train = train[\"y\"]\n",
    "\n",
    "#print((x_train))\n",
    "\n",
    "x_test = test[\"x\"].values[:,np.newaxis] # column matrix instead of line vector\n",
    "y_test = test[\"y\"]\n",
    "\n",
    "# create matrix versions of these arrays\n",
    "X = x_train[:, np.newaxis]\n",
    "x_plot = np.linspace(-5, 5, 100)\n",
    "X_plot = x_plot[:, np.newaxis]\n",
    "\n",
    "plt.scatter(x_train, y_train, s=30, marker='o', label=\"training points\")\n",
    "\n",
    "for degree in range(2,5):\n",
    "    model = make_pipeline(PolynomialFeatures(degree),linear_model.LinearRegression())\n",
    "    model.fit(x_train, y_train)\n",
    "  #  print((x_train))\n",
    "    X_plot = x_plot[:, np.newaxis]\n",
    "    y_plot = model.predict(X_plot)\n",
    " #   y_pred=model.predict(X_plot)\n",
    "    plt.plot(X_plot, y_plot,label=\"degree %d\" % degree)\n",
    "\n",
    "plt.legend(loc='best')\n"
   ]
  },
  {
   "cell_type": "code",
   "execution_count": 1,
   "metadata": {},
   "outputs": [],
   "source": [
    "import numpy as np\n",
    "import pandas as pd\n",
    "import numpy as np\n",
    "from sklearn.metrics import mean_squared_error, r2_score\n",
    "import matplotlib.pyplot as plt\n",
    "%matplotlib inline\n",
    "from sklearn.preprocessing import PolynomialFeatures\n",
    "from sklearn.pipeline import make_pipeline\n",
    "\n",
    "\n",
    "from sklearn import linear_model\n",
    "reg = linear_model.LinearRegression()\n",
    "\n",
    "f=open(\"abalone.data\", 'r')"
   ]
  },
  {
   "cell_type": "code",
   "execution_count": 2,
   "metadata": {},
   "outputs": [],
   "source": [
    "lines = f.read().splitlines()"
   ]
  },
  {
   "cell_type": "code",
   "execution_count": 17,
   "metadata": {},
   "outputs": [
    {
     "name": "stdout",
     "output_type": "stream",
     "text": [
      "4177\n",
      "4176\n"
     ]
    }
   ],
   "source": [
    "x_train=[]\n",
    "y_train=[]\n",
    "for line in lines:\n",
    "    line=np.array(line.split(','))\n",
    "\n",
    "    if line[0] == 'M':\n",
    "\n",
    "        line[0]=1.\n",
    "\n",
    "    elif line[0] == 'F':\n",
    "        line[0]=3.\n",
    "\n",
    "    elif line[0] == 'I':\n",
    "        line[0]=2.\n",
    "    x_train.append(line[:8])\n",
    "    y_train.append(line[-1])\n",
    "\n",
    "x_train=np.array(x_train).astype(np.float64)\n",
    "y_train=np.array(y_train).astype(np.float64)\n",
    "print(len(x_train))\n",
    "\n",
    "x_train = np.delete(x_train,100, axis = 0)\n",
    "\n",
    "print(len(x_train))\n",
    "\n",
    "#\n",
    "\n",
    "# for degree in range(3,7):\n",
    "#     model = make_pipeline(PolynomialFeatures(degree),linear_model.LinearRegression())\n",
    "#     model.fit(x_train, y_train)\n",
    "#     y_plot = model.predict(x_train[4:9])\n",
    "#     print(y_plot)"
   ]
  },
  {
   "cell_type": "code",
   "execution_count": 167,
   "metadata": {},
   "outputs": [
    {
     "name": "stdout",
     "output_type": "stream",
     "text": [
      "[1. 2.]\n"
     ]
    }
   ],
   "source": [
    "a=[1,2]\n",
    "b=[]\n",
    "c=np.append(a,b)\n",
    "print(c)"
   ]
  },
  {
   "cell_type": "code",
   "execution_count": 141,
   "metadata": {},
   "outputs": [
    {
     "name": "stdout",
     "output_type": "stream",
     "text": [
      "[[[1 2 3]\n",
      "  [4 5 6]]\n",
      "\n",
      " [[1 2 3]\n",
      "  [4 5 6]]]\n"
     ]
    }
   ],
   "source": [
    "a = np.array([[1, 2, 3],[4,5,6]])\n",
    "#a = a[:, np.newaxis]\n",
    "a=np.vstack(([a],[a]))\n",
    "#a=np.stack((a,a))\n",
    "print(a)"
   ]
  },
  {
   "cell_type": "code",
   "execution_count": null,
   "metadata": {},
   "outputs": [],
   "source": []
  }
 ],
 "metadata": {
  "kernelspec": {
   "display_name": "Python 3",
   "language": "python",
   "name": "python3"
  },
  "language_info": {
   "codemirror_mode": {
    "name": "ipython",
    "version": 3
   },
   "file_extension": ".py",
   "mimetype": "text/x-python",
   "name": "python",
   "nbconvert_exporter": "python",
   "pygments_lexer": "ipython3",
   "version": "3.7.3"
  }
 },
 "nbformat": 4,
 "nbformat_minor": 2
}
